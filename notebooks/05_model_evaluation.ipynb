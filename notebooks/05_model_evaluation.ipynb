{
 "cells": [
  {
   "cell_type": "code",
   "execution_count": 1,
   "metadata": {},
   "outputs": [],
   "source": [
    "import os"
   ]
  },
  {
   "cell_type": "code",
   "execution_count": 2,
   "metadata": {},
   "outputs": [
    {
     "data": {
      "text/plain": [
       "'/Users/divyanshu9871gmail.com/Desktop/ml-ops-holiday-package-prediction/notebooks'"
      ]
     },
     "execution_count": 2,
     "metadata": {},
     "output_type": "execute_result"
    }
   ],
   "source": [
    "%pwd"
   ]
  },
  {
   "cell_type": "code",
   "execution_count": 3,
   "metadata": {},
   "outputs": [],
   "source": [
    "os.chdir(\"../\")"
   ]
  },
  {
   "cell_type": "code",
   "execution_count": 4,
   "metadata": {},
   "outputs": [
    {
     "data": {
      "text/plain": [
       "'/Users/divyanshu9871gmail.com/Desktop/ml-ops-holiday-package-prediction'"
      ]
     },
     "execution_count": 4,
     "metadata": {},
     "output_type": "execute_result"
    }
   ],
   "source": [
    "%pwd"
   ]
  },
  {
   "cell_type": "code",
   "execution_count": 5,
   "metadata": {},
   "outputs": [],
   "source": [
    "os.environ[\"MLFLOW_TRACKING_URI\"] = (\n",
    "    \"https://dagshub.com/Divyanshu9822/ml-ops-holiday-package-prediction.mlflow\"\n",
    ")"
   ]
  },
  {
   "cell_type": "code",
   "execution_count": 6,
   "metadata": {},
   "outputs": [],
   "source": [
    "from dataclasses import dataclass\n",
    "from pathlib import Path\n",
    "\n",
    "\n",
    "@dataclass(frozen=True)\n",
    "class ModelEvaluationConfig:\n",
    "    root_dir: Path\n",
    "    test_data_path: Path\n",
    "    preprocessor_model_path: Path\n",
    "    model_path: Path\n",
    "    model_name: str\n",
    "    model_params: dict\n",
    "    metric_file_name: Path\n",
    "    target_column: str\n",
    "    mlflow_uri: str"
   ]
  },
  {
   "cell_type": "code",
   "execution_count": 7,
   "metadata": {},
   "outputs": [],
   "source": [
    "from src.constants import *\n",
    "from src.utils.common import read_yaml, create_directories, save_json"
   ]
  },
  {
   "cell_type": "code",
   "execution_count": 8,
   "metadata": {},
   "outputs": [],
   "source": [
    "class ConfigurationManager:\n",
    "    def __init__(\n",
    "        self,\n",
    "        config_filepath=CONFIG_FILE_PATH,\n",
    "        model_config_filepath=MODEL_CONFIG_FILE_PATH,\n",
    "        schema_filepath=SCHEMA_FILE_PATH,\n",
    "    ):\n",
    "\n",
    "        self.config = read_yaml(config_filepath)\n",
    "        self.model_config = read_yaml(model_config_filepath)\n",
    "        self.schema = read_yaml(schema_filepath)\n",
    "\n",
    "        create_directories([self.config.artifacts_root])\n",
    "\n",
    "    def get_model_evaluation_config(self) -> ModelEvaluationConfig:\n",
    "        config = self.config.model_evaluation\n",
    "        model_name = self.model_config.model\n",
    "        params = self.model_config.params\n",
    "        schema = self.schema.TARGET_COLUMN\n",
    "\n",
    "        create_directories([config.root_dir])\n",
    "\n",
    "        return ModelEvaluationConfig(\n",
    "            root_dir=config.root_dir,\n",
    "            test_data_path=config.test_data_path,\n",
    "            preprocessor_model_path=config.preprocessor_model_path,\n",
    "            model_path=config.model_path,\n",
    "            model_name=model_name,\n",
    "            model_params=params,\n",
    "            metric_file_name=config.metric_file_name,\n",
    "            target_column=schema.name,\n",
    "            mlflow_uri=\"https://dagshub.com/Divyanshu9822/ml-ops-holiday-package-prediction.mlflow\",\n",
    "        )"
   ]
  },
  {
   "cell_type": "code",
   "execution_count": 9,
   "metadata": {},
   "outputs": [],
   "source": [
    "import os\n",
    "import pandas as pd\n",
    "from sklearn.metrics import (\n",
    "    accuracy_score,\n",
    "    precision_score,\n",
    "    recall_score,\n",
    "    f1_score,\n",
    "    roc_auc_score,\n",
    ")\n",
    "from urllib.parse import urlparse\n",
    "import mlflow\n",
    "import mlflow.sklearn\n",
    "import numpy as np\n",
    "import joblib\n",
    "import xgboost"
   ]
  },
  {
   "cell_type": "code",
   "execution_count": null,
   "metadata": {},
   "outputs": [],
   "source": [
    "os.environ[\"MLFLOW_TRACKING_URI\"]=\"\"\n",
    "os.environ[\"MLFLOW_TRACKING_USERNAME\"]=\"\"\n",
    "os.environ[\"MLFLOW_TRACKING_PASSWORD\"]=\"\""
   ]
  },
  {
   "cell_type": "code",
   "execution_count": 11,
   "metadata": {},
   "outputs": [],
   "source": [
    "class ModelEvaluation:\n",
    "    def __init__(self, config: ModelEvaluationConfig):\n",
    "        self.config = config\n",
    "\n",
    "    def eval_metrics(self, y_test, y_test_pred):\n",
    "        accuracy = accuracy_score(y_test, y_test_pred)\n",
    "        f1 = f1_score(y_test, y_test_pred, average=\"weighted\")\n",
    "        precision = precision_score(y_test, y_test_pred, average=\"weighted\")\n",
    "        recall = recall_score(y_test, y_test_pred, average=\"weighted\")\n",
    "        roc_auc = roc_auc_score(y_test, y_test_pred)\n",
    "        return accuracy, f1, precision, recall, roc_auc\n",
    "\n",
    "    def log_into_mlflow(self):\n",
    "        # Load test data and model\n",
    "        test_data = pd.read_csv(self.config.test_data_path)\n",
    "        model = joblib.load(self.config.model_path)\n",
    "\n",
    "        test_x = test_data.drop([self.config.target_column], axis=1)\n",
    "        test_y = test_data[[self.config.target_column]]\n",
    "\n",
    "        preprosessor = joblib.load(self.config.preprocessor_model_path)\n",
    "        test_x_transformed = preprosessor.transform(test_x)\n",
    "\n",
    "        # Set MLflow URI and start a new run\n",
    "        mlflow.set_registry_uri(self.config.mlflow_uri)\n",
    "        tracking_url_type_store = urlparse(mlflow.get_tracking_uri()).scheme\n",
    "\n",
    "        with mlflow.start_run():\n",
    "            # Make predictions\n",
    "            pred_y = model.predict(test_x_transformed)\n",
    "\n",
    "            # Evaluate metrics\n",
    "            accuracy, f1, precision, recall, roc_auc = self.eval_metrics(test_y, pred_y)\n",
    "\n",
    "            # Save metrics to JSON\n",
    "            scores = {\n",
    "                \"accuracy\": accuracy,\n",
    "                \"f1_score\": f1,\n",
    "                \"precision\": precision,\n",
    "                \"recall\": recall,\n",
    "                \"roc_auc\": roc_auc,\n",
    "            }\n",
    "            save_json(path=Path(self.config.metric_file_name), data=scores)\n",
    "\n",
    "            # Log parameters and metrics to MLflow\n",
    "            mlflow.log_params(self.config.model_params)\n",
    "            mlflow.log_metric(\"accuracy\", accuracy)\n",
    "            mlflow.log_metric(\"f1_score\", f1)\n",
    "            mlflow.log_metric(\"precision\", precision)\n",
    "            mlflow.log_metric(\"recall\", recall)\n",
    "            mlflow.log_metric(\"roc_auc\", roc_auc)\n",
    "\n",
    "            # Log the model\n",
    "            if tracking_url_type_store != \"file\":\n",
    "                if isinstance(model, xgboost.XGBModel):\n",
    "                    mlflow.xgboost.log_model(\n",
    "                        model, \"model\", registered_model_name=self.config.model_name\n",
    "                    )\n",
    "                else:\n",
    "                    mlflow.sklearn.log_model(\n",
    "                        model, \"model\", registered_model_name=self.config.model_name\n",
    "                    )\n",
    "            else:\n",
    "                if isinstance(model, xgboost.XGBModel):\n",
    "                    mlflow.xgboost.log_model(model, \"model\")\n",
    "                else:\n",
    "                    mlflow.sklearn.log_model(model, \"model\")"
   ]
  },
  {
   "cell_type": "code",
   "execution_count": 12,
   "metadata": {},
   "outputs": [
    {
     "name": "stdout",
     "output_type": "stream",
     "text": [
      "[2024-09-09 14:03:49,816: INFO: common: yaml file: config/config.yaml loaded successfully]\n",
      "[2024-09-09 14:03:49,820: INFO: common: yaml file: model_config.yaml loaded successfully]\n",
      "[2024-09-09 14:03:49,823: INFO: common: yaml file: schema.yaml loaded successfully]\n",
      "[2024-09-09 14:03:49,824: INFO: common: created directory at: artifacts]\n",
      "[2024-09-09 14:03:49,825: INFO: common: created directory at: artifacts/model_evaluation]\n",
      "[2024-09-09 14:03:50,864: INFO: common: json file saved at: artifacts/model_evaluation/metrics.json]\n"
     ]
    },
    {
     "name": "stderr",
     "output_type": "stream",
     "text": [
      "/Users/divyanshu9871gmail.com/Desktop/ml-ops-holiday-package-prediction/venv/lib/python3.10/site-packages/xgboost/core.py:158: UserWarning: [14:03:53] WARNING: /Users/runner/work/xgboost/xgboost/src/c_api/c_api.cc:1374: Saving model in the UBJSON format as default.  You can use file extension: `json`, `ubj` or `deprecated` to choose between formats.\n",
      "  warnings.warn(smsg, UserWarning)\n",
      "/Users/divyanshu9871gmail.com/Desktop/ml-ops-holiday-package-prediction/venv/lib/python3.10/site-packages/_distutils_hack/__init__.py:31: UserWarning: Setuptools is replacing distutils. Support for replacing an already imported distutils is deprecated. In the future, this condition will fail. Register concerns at https://github.com/pypa/setuptools/issues/new?template=distutils-deprecation.yml\n",
      "  warnings.warn(\n",
      "Registered model 'Xgboost' already exists. Creating a new version of this model...\n",
      "2024/09/09 14:04:02 INFO mlflow.tracking._model_registry.client: Waiting up to 300 seconds for model version to finish creation.                     Model name: Xgboost, version 8\n",
      "Created version '8' of model 'Xgboost'.\n"
     ]
    }
   ],
   "source": [
    "try:\n",
    "    config = ConfigurationManager()\n",
    "    model_evaluation_config = config.get_model_evaluation_config()\n",
    "    model_evaluation_config = ModelEvaluation(config=model_evaluation_config)\n",
    "    model_evaluation_config.log_into_mlflow()\n",
    "except Exception as e:\n",
    "    raise e"
   ]
  },
  {
   "cell_type": "code",
   "execution_count": null,
   "metadata": {},
   "outputs": [],
   "source": []
  }
 ],
 "metadata": {
  "kernelspec": {
   "display_name": "mlproj",
   "language": "python",
   "name": "python3"
  },
  "language_info": {
   "codemirror_mode": {
    "name": "ipython",
    "version": 3
   },
   "file_extension": ".py",
   "mimetype": "text/x-python",
   "name": "python",
   "nbconvert_exporter": "python",
   "pygments_lexer": "ipython3",
   "version": "3.10.14"
  },
  "orig_nbformat": 4
 },
 "nbformat": 4,
 "nbformat_minor": 2
}
